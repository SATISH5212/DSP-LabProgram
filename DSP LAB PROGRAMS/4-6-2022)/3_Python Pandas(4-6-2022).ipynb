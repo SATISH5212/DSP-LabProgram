{
 "cells": [
  {
   "cell_type": "code",
   "execution_count": null,
   "id": "8fa9a621",
   "metadata": {},
   "outputs": [],
   "source": [
    "# Create dataframe using Dictionary:-"
   ]
  },
  {
   "cell_type": "code",
   "execution_count": 3,
   "id": "e5050dc8",
   "metadata": {},
   "outputs": [
    {
     "name": "stdout",
     "output_type": "stream",
     "text": [
      "  Name  Roll_no  Perc\n",
      "0  abc        1  90.5\n",
      "1  def        2  89.4\n",
      "2  ghi        3  99.0\n"
     ]
    }
   ],
   "source": [
    "import pandas as pd\n",
    "\n",
    "di = {\"Name\":[\"abc\",\"def\",\"ghi\"],\"Roll_no\":[1,2,3],\"Perc\":[90.5,89.4,99]}\n",
    "\n",
    "df = pd.DataFrame(di)\n",
    "\n",
    "print(df)"
   ]
  },
  {
   "cell_type": "code",
   "execution_count": null,
   "id": "3f8eb761",
   "metadata": {},
   "outputs": [],
   "source": [
    "# Create dataframe using List of Tuples:-"
   ]
  },
  {
   "cell_type": "code",
   "execution_count": 4,
   "id": "732feb5c",
   "metadata": {},
   "outputs": [
    {
     "name": "stdout",
     "output_type": "stream",
     "text": [
      "     0   1     2\n",
      "0  abc  10  89.2\n",
      "1  def  11  80.0\n",
      "2  klm  12  67.2\n"
     ]
    }
   ],
   "source": [
    "import pandas as pd\n",
    "\n",
    "LT = [(\"abc\",10,89.2),(\"def\",11,80),(\"klm\",12,67.2)]\n",
    "\n",
    "df = pd.DataFrame(LT)\n",
    "\n",
    "print(df)"
   ]
  },
  {
   "cell_type": "code",
   "execution_count": null,
   "id": "b5b45901",
   "metadata": {},
   "outputs": [],
   "source": []
  }
 ],
 "metadata": {
  "kernelspec": {
   "display_name": "Python 3 (ipykernel)",
   "language": "python",
   "name": "python3"
  },
  "language_info": {
   "codemirror_mode": {
    "name": "ipython",
    "version": 3
   },
   "file_extension": ".py",
   "mimetype": "text/x-python",
   "name": "python",
   "nbconvert_exporter": "python",
   "pygments_lexer": "ipython3",
   "version": "3.7.4"
  }
 },
 "nbformat": 4,
 "nbformat_minor": 5
}
