{
 "cells": [
  {
   "cell_type": "code",
   "execution_count": 1,
   "id": "92b74c27",
   "metadata": {},
   "outputs": [],
   "source": [
    "f=open(\"hello.txt\")"
   ]
  },
  {
   "cell_type": "code",
   "execution_count": 2,
   "id": "f94a9d46",
   "metadata": {},
   "outputs": [],
   "source": [
    "f=open(\"hello.txt\",\"rt\")"
   ]
  },
  {
   "cell_type": "code",
   "execution_count": 3,
   "id": "c30010be",
   "metadata": {},
   "outputs": [
    {
     "name": "stdout",
     "output_type": "stream",
     "text": [
      "hello rgukt sklm\n",
      "iam one of the student in cse department \n",
      "\n"
     ]
    }
   ],
   "source": [
    "f=open(\"hello.txt\",\"r\")\n",
    "print(f.read())"
   ]
  },
  {
   "cell_type": "code",
   "execution_count": 4,
   "id": "2a266548",
   "metadata": {},
   "outputs": [
    {
     "name": "stdout",
     "output_type": "stream",
     "text": [
      "hello\n"
     ]
    }
   ],
   "source": [
    "f=open(\"hello.txt\",\"r\")\n",
    "print(f.read(5))"
   ]
  },
  {
   "cell_type": "code",
   "execution_count": 5,
   "id": "a53636dd",
   "metadata": {},
   "outputs": [
    {
     "name": "stdout",
     "output_type": "stream",
     "text": [
      "hello rgukt sklm\n",
      "\n"
     ]
    }
   ],
   "source": [
    "f=open(\"hello.txt\",\"r\")\n",
    "print(f.readline())"
   ]
  },
  {
   "cell_type": "code",
   "execution_count": 6,
   "id": "da589e6d",
   "metadata": {},
   "outputs": [
    {
     "name": "stdout",
     "output_type": "stream",
     "text": [
      "hello rgukt sklm\n",
      "\n",
      "iam one of the student in cse department \n",
      "\n"
     ]
    }
   ],
   "source": [
    "f=open(\"hello.txt\",\"r\")\n",
    "print(f.readline())\n",
    "print(f.readline())"
   ]
  },
  {
   "cell_type": "code",
   "execution_count": 7,
   "id": "a516eae9",
   "metadata": {},
   "outputs": [
    {
     "name": "stdout",
     "output_type": "stream",
     "text": [
      "hello rgukt sklm\n",
      "\n",
      "iam one of the student in cse department \n",
      "\n"
     ]
    }
   ],
   "source": [
    "f=open(\"hello.txt\",\"r\")\n",
    "for x in f:\n",
    "    print(x)"
   ]
  },
  {
   "cell_type": "code",
   "execution_count": 8,
   "id": "d22343c4",
   "metadata": {},
   "outputs": [
    {
     "name": "stdout",
     "output_type": "stream",
     "text": [
      "hello rgukt sklm\n",
      "\n"
     ]
    }
   ],
   "source": [
    "f=open(\"hello.txt\",\"r\")\n",
    "print(f.readline())\n",
    "f.close()"
   ]
  },
  {
   "cell_type": "code",
   "execution_count": 9,
   "id": "d4588a94",
   "metadata": {},
   "outputs": [],
   "source": [
    "f=open(\"hello1.txt\",\"a\")\n",
    "f.write(\"now the file has more content\")\n",
    "f.close()"
   ]
  },
  {
   "cell_type": "code",
   "execution_count": 10,
   "id": "d8fd725f",
   "metadata": {},
   "outputs": [
    {
     "name": "stdout",
     "output_type": "stream",
     "text": [
      "now the file has more content\n"
     ]
    }
   ],
   "source": [
    "f=open(\"hello1.txt\",\"r\")\n",
    "print(f.read())"
   ]
  },
  {
   "cell_type": "code",
   "execution_count": 11,
   "id": "3e80a3e5",
   "metadata": {},
   "outputs": [],
   "source": [
    "f=open(\"hello2.txt\",\"w\")\n",
    "f.write(\"woops i have deleted the content\")\n",
    "f.close()"
   ]
  },
  {
   "cell_type": "code",
   "execution_count": 12,
   "id": "af03ea66",
   "metadata": {},
   "outputs": [
    {
     "name": "stdout",
     "output_type": "stream",
     "text": [
      "woops i have deleted the content\n"
     ]
    }
   ],
   "source": [
    "f=open(\"hello2.txt\",\"r\")\n",
    "print(f.read())"
   ]
  },
  {
   "cell_type": "code",
   "execution_count": 15,
   "id": "5fcb6590",
   "metadata": {},
   "outputs": [],
   "source": [
    "f=open(\"world.txt\",\"w\")"
   ]
  },
  {
   "cell_type": "code",
   "execution_count": 16,
   "id": "29aea1d1",
   "metadata": {},
   "outputs": [],
   "source": [
    "import os\n",
    "os.remove(\"hello.txt\")"
   ]
  },
  {
   "cell_type": "code",
   "execution_count": 18,
   "id": "f000f765",
   "metadata": {},
   "outputs": [
    {
     "name": "stdout",
     "output_type": "stream",
     "text": [
      "the file does not exist\n"
     ]
    }
   ],
   "source": [
    "import os\n",
    "if os.path.exists(\"hello.txt\"):\n",
    "    os.remove(\"hello.txt\")\n",
    "else:\n",
    "        print(\"the file does not exist\")"
   ]
  },
  {
   "cell_type": "code",
   "execution_count": null,
   "id": "f925b655",
   "metadata": {},
   "outputs": [],
   "source": []
  },
  {
   "cell_type": "code",
   "execution_count": null,
   "id": "85b70b4a",
   "metadata": {},
   "outputs": [],
   "source": []
  },
  {
   "cell_type": "code",
   "execution_count": null,
   "id": "cfa677f5",
   "metadata": {},
   "outputs": [],
   "source": []
  }
 ],
 "metadata": {
  "kernelspec": {
   "display_name": "Python 3 (ipykernel)",
   "language": "python",
   "name": "python3"
  },
  "language_info": {
   "codemirror_mode": {
    "name": "ipython",
    "version": 3
   },
   "file_extension": ".py",
   "mimetype": "text/x-python",
   "name": "python",
   "nbconvert_exporter": "python",
   "pygments_lexer": "ipython3",
   "version": "3.10.4"
  }
 },
 "nbformat": 4,
 "nbformat_minor": 5
}
