{
 "cells": [
  {
   "cell_type": "code",
   "execution_count": 6,
   "id": "6a4498c4",
   "metadata": {},
   "outputs": [
    {
     "name": "stdout",
     "output_type": "stream",
     "text": [
      "[[ 4]\n",
      " [ 5]\n",
      " [ 6]\n",
      " [ 9]\n",
      " [12]\n",
      " [ 7]\n",
      " [ 8]\n",
      " [ 9]]\n",
      "[3 5 6 4 7 8 4 3]\n",
      "x-train [[ 6]\n",
      " [ 9]\n",
      " [12]\n",
      " [ 8]\n",
      " [ 7]\n",
      " [ 4]]\n",
      "y-train [6 4 7 4 8 3]\n",
      "x-test [[5]\n",
      " [9]]\n",
      "y-test [5 3]\n"
     ]
    }
   ],
   "source": [
    "#train test split\n",
    "import numpy as np\n",
    "import pandas as pd\n",
    "from sklearn.linear_model import LinearRegression\n",
    "from sklearn.model_selection import train_test_split\n",
    "x=np.array([4,5,6,9,12,7,8,9]).reshape(-1,1)\n",
    "y=np.array([3,5,6,4,7,8,4,3])\n",
    "print(x)\n",
    "print(y)\n",
    "#splitndata into training AND testing\n",
    "x_train,x_test,y_train,y_test=train_test_split(x,y)\n",
    "model=LinearRegression()\n",
    "model.fit(x_train,y_train)\n",
    "r_sq=model.score(x,y)\n",
    "print(\"x-train\",x_train)\n",
    "print(\"y-train\",y_train)\n",
    "print(\"x-test\",x_test)\n",
    "print(\"y-test\",y_test)"
   ]
  },
  {
   "cell_type": "code",
   "execution_count": null,
   "id": "0ef483ed",
   "metadata": {},
   "outputs": [],
   "source": []
  }
 ],
 "metadata": {
  "kernelspec": {
   "display_name": "Python 3 (ipykernel)",
   "language": "python",
   "name": "python3"
  },
  "language_info": {
   "codemirror_mode": {
    "name": "ipython",
    "version": 3
   },
   "file_extension": ".py",
   "mimetype": "text/x-python",
   "name": "python",
   "nbconvert_exporter": "python",
   "pygments_lexer": "ipython3",
   "version": "3.10.4"
  }
 },
 "nbformat": 4,
 "nbformat_minor": 5
}
