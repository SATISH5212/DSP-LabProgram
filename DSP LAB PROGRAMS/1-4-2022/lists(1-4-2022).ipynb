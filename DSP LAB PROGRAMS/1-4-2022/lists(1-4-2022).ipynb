{
 "cells": [
  {
   "cell_type": "code",
   "execution_count": 1,
   "id": "db74ee6c",
   "metadata": {},
   "outputs": [
    {
     "name": "stdout",
     "output_type": "stream",
     "text": [
      "['a', 'b', '3', 4, 8]\n"
     ]
    }
   ],
   "source": [
    "l=[\"a\",\"b\",\"3\",4,8]\n",
    "print(l)"
   ]
  },
  {
   "cell_type": "code",
   "execution_count": 2,
   "id": "880b3ba7",
   "metadata": {},
   "outputs": [
    {
     "name": "stdout",
     "output_type": "stream",
     "text": [
      "b\n"
     ]
    }
   ],
   "source": [
    "print(l[1])"
   ]
  },
  {
   "cell_type": "code",
   "execution_count": 3,
   "id": "a9d6d9e0",
   "metadata": {},
   "outputs": [
    {
     "name": "stdout",
     "output_type": "stream",
     "text": [
      "['3', 4, 8]\n"
     ]
    }
   ],
   "source": [
    "print(l[2:])"
   ]
  },
  {
   "cell_type": "code",
   "execution_count": 4,
   "id": "11a0f6bd",
   "metadata": {},
   "outputs": [
    {
     "name": "stdout",
     "output_type": "stream",
     "text": [
      "4\n"
     ]
    }
   ],
   "source": [
    "print(l[-2])"
   ]
  },
  {
   "cell_type": "code",
   "execution_count": 5,
   "id": "15615364",
   "metadata": {},
   "outputs": [
    {
     "name": "stdout",
     "output_type": "stream",
     "text": [
      "['3', 4]\n"
     ]
    }
   ],
   "source": [
    "print(l[-3:-1])"
   ]
  },
  {
   "cell_type": "code",
   "execution_count": 6,
   "id": "671ab2b7",
   "metadata": {},
   "outputs": [],
   "source": [
    "l.append(\"c\")"
   ]
  },
  {
   "cell_type": "code",
   "execution_count": 7,
   "id": "6c18afab",
   "metadata": {},
   "outputs": [
    {
     "name": "stdout",
     "output_type": "stream",
     "text": [
      "['a', 'b', '3', 4, 8, 'c']\n"
     ]
    }
   ],
   "source": [
    "print(l)"
   ]
  },
  {
   "cell_type": "code",
   "execution_count": 8,
   "id": "86477f50",
   "metadata": {},
   "outputs": [],
   "source": [
    "l.insert(1,1)"
   ]
  },
  {
   "cell_type": "code",
   "execution_count": 9,
   "id": "97b9ea5d",
   "metadata": {},
   "outputs": [],
   "source": [
    "l_ext=[5,6]"
   ]
  },
  {
   "cell_type": "code",
   "execution_count": 10,
   "id": "42ff0cd0",
   "metadata": {},
   "outputs": [],
   "source": [
    "l.extend(l_ext)"
   ]
  },
  {
   "cell_type": "code",
   "execution_count": 11,
   "id": "b9ee15a0",
   "metadata": {},
   "outputs": [
    {
     "name": "stdout",
     "output_type": "stream",
     "text": [
      "['a', 1, 'b', '3', 4, 8, 'c', 5, 6]\n"
     ]
    }
   ],
   "source": [
    "print(l)"
   ]
  },
  {
   "cell_type": "code",
   "execution_count": 12,
   "id": "702f8c0f",
   "metadata": {},
   "outputs": [],
   "source": [
    "l.remove(\"a\")"
   ]
  },
  {
   "cell_type": "code",
   "execution_count": 13,
   "id": "cfcb24a1",
   "metadata": {},
   "outputs": [
    {
     "name": "stdout",
     "output_type": "stream",
     "text": [
      "[1, 'b', '3', 4, 8, 'c', 5, 6]\n"
     ]
    }
   ],
   "source": [
    "print(l)"
   ]
  },
  {
   "cell_type": "code",
   "execution_count": 14,
   "id": "85c23544",
   "metadata": {},
   "outputs": [
    {
     "data": {
      "text/plain": [
       "6"
      ]
     },
     "execution_count": 14,
     "metadata": {},
     "output_type": "execute_result"
    }
   ],
   "source": [
    "l.pop()"
   ]
  },
  {
   "cell_type": "code",
   "execution_count": 15,
   "id": "88e9c490",
   "metadata": {},
   "outputs": [
    {
     "data": {
      "text/plain": [
       "'b'"
      ]
     },
     "execution_count": 15,
     "metadata": {},
     "output_type": "execute_result"
    }
   ],
   "source": [
    "l.pop(1)"
   ]
  },
  {
   "cell_type": "code",
   "execution_count": 16,
   "id": "35a6cbe5",
   "metadata": {},
   "outputs": [],
   "source": [
    "del l[0]"
   ]
  },
  {
   "cell_type": "code",
   "execution_count": 17,
   "id": "c358a1ec",
   "metadata": {},
   "outputs": [
    {
     "name": "stdout",
     "output_type": "stream",
     "text": [
      "['3', 4, 8, 'c', 5]\n"
     ]
    }
   ],
   "source": [
    "print(l)"
   ]
  },
  {
   "cell_type": "code",
   "execution_count": 18,
   "id": "8761651e",
   "metadata": {},
   "outputs": [],
   "source": [
    "l2=l.copy()"
   ]
  },
  {
   "cell_type": "code",
   "execution_count": 19,
   "id": "12444876",
   "metadata": {},
   "outputs": [
    {
     "name": "stdout",
     "output_type": "stream",
     "text": [
      "['3', 4, 8, 'c', 5]\n"
     ]
    }
   ],
   "source": [
    "print(l2)"
   ]
  },
  {
   "cell_type": "code",
   "execution_count": 20,
   "id": "719dc55b",
   "metadata": {},
   "outputs": [],
   "source": [
    "l.reverse()"
   ]
  },
  {
   "cell_type": "code",
   "execution_count": 21,
   "id": "e5d3ab77",
   "metadata": {},
   "outputs": [
    {
     "name": "stdout",
     "output_type": "stream",
     "text": [
      "[5, 'c', 8, 4, '3']\n"
     ]
    }
   ],
   "source": [
    "print(l)"
   ]
  },
  {
   "cell_type": "code",
   "execution_count": 22,
   "id": "ef31081a",
   "metadata": {},
   "outputs": [],
   "source": [
    "l.clear()"
   ]
  },
  {
   "cell_type": "code",
   "execution_count": 23,
   "id": "c3cc7b62",
   "metadata": {},
   "outputs": [
    {
     "name": "stdout",
     "output_type": "stream",
     "text": [
      "[]\n"
     ]
    }
   ],
   "source": [
    "print(l)"
   ]
  },
  {
   "cell_type": "code",
   "execution_count": 24,
   "id": "561e4727",
   "metadata": {},
   "outputs": [
    {
     "name": "stdout",
     "output_type": "stream",
     "text": [
      "[1, 2, 'r', 'f', 6, 7, 8]\n"
     ]
    }
   ],
   "source": [
    "l2=[1,2,\"r\",\"f\",6,7,8]\n",
    "print(l2)"
   ]
  },
  {
   "cell_type": "code",
   "execution_count": 25,
   "id": "5d5a648a",
   "metadata": {},
   "outputs": [
    {
     "name": "stdout",
     "output_type": "stream",
     "text": [
      "7\n"
     ]
    }
   ],
   "source": [
    "print(len(l2))"
   ]
  },
  {
   "cell_type": "code",
   "execution_count": 27,
   "id": "1d489ee6",
   "metadata": {},
   "outputs": [
    {
     "data": {
      "text/plain": [
       "list"
      ]
     },
     "execution_count": 27,
     "metadata": {},
     "output_type": "execute_result"
    }
   ],
   "source": [
    "type(l2)"
   ]
  },
  {
   "cell_type": "code",
   "execution_count": 28,
   "id": "9e0ca279",
   "metadata": {},
   "outputs": [
    {
     "name": "stdout",
     "output_type": "stream",
     "text": [
      "<class 'list'>\n"
     ]
    }
   ],
   "source": [
    "print(type(l))"
   ]
  },
  {
   "cell_type": "code",
   "execution_count": 32,
   "id": "d46ef644",
   "metadata": {},
   "outputs": [
    {
     "name": "stdout",
     "output_type": "stream",
     "text": [
      "['raji', 'puji', 'satish', 'swaroop', 'lavu', 'manas', 'kiwi', 'orange']\n"
     ]
    }
   ],
   "source": [
    "l=[\"raji\",\"puji\",\"satish\",\"swaroop\",\"lavu\",\"manas\"]\n",
    "l2=(\"kiwi\",\"orange\")\n",
    "l.extend(l2)\n",
    "print(l)"
   ]
  },
  {
   "cell_type": "code",
   "execution_count": 33,
   "id": "6b9125bb",
   "metadata": {},
   "outputs": [
    {
     "name": "stdout",
     "output_type": "stream",
     "text": [
      "['raji', 'puji', 'satish', 'swaroop', 'lavu', 'manas']\n",
      "['raji', 'puji', 'satish', 'swaroop', 'lavu', 'manas']\n",
      "['raji', 'puji', 'satish', 'swaroop', 'lavu', 'manas']\n",
      "['raji', 'puji', 'satish', 'swaroop', 'lavu', 'manas']\n",
      "['raji', 'puji', 'satish', 'swaroop', 'lavu', 'manas']\n",
      "['raji', 'puji', 'satish', 'swaroop', 'lavu', 'manas']\n"
     ]
    }
   ],
   "source": [
    "l=[\"raji\",\"puji\",\"satish\",\"swaroop\",\"lavu\",\"manas\"]\n",
    "for x in l:\n",
    "    print(l)"
   ]
  },
  {
   "cell_type": "code",
   "execution_count": 35,
   "id": "720e2c28",
   "metadata": {},
   "outputs": [
    {
     "name": "stdout",
     "output_type": "stream",
     "text": [
      "raji\n",
      "puji\n",
      "satish\n",
      "swaroop\n",
      "lavu\n",
      "manas\n"
     ]
    }
   ],
   "source": [
    "l=[\"raji\",\"puji\",\"satish\",\"swaroop\",\"lavu\",\"manas\"]\n",
    "for i in range(len(l)):\n",
    "    print(l[i])"
   ]
  },
  {
   "cell_type": "code",
   "execution_count": 36,
   "id": "25b5c13c",
   "metadata": {},
   "outputs": [
    {
     "name": "stdout",
     "output_type": "stream",
     "text": [
      "raji\n",
      "puji\n",
      "satish\n",
      "swaroop\n",
      "lavu\n",
      "manas\n"
     ]
    }
   ],
   "source": [
    "l=[\"raji\",\"puji\",\"satish\",\"swaroop\",\"lavu\",\"manas\"]\n",
    "i=0\n",
    "while i<len(l):\n",
    "    print(l[i])\n",
    "    i=i+1"
   ]
  },
  {
   "cell_type": "code",
   "execution_count": 37,
   "id": "1ffe107d",
   "metadata": {},
   "outputs": [
    {
     "name": "stdout",
     "output_type": "stream",
     "text": [
      "raji\n",
      "puji\n",
      "satish\n",
      "swaroop\n",
      "lavu\n",
      "manas\n"
     ]
    },
    {
     "data": {
      "text/plain": [
       "[None, None, None, None, None, None]"
      ]
     },
     "execution_count": 37,
     "metadata": {},
     "output_type": "execute_result"
    }
   ],
   "source": [
    "l=[\"raji\",\"puji\",\"satish\",\"swaroop\",\"lavu\",\"manas\"]\n",
    "[print(x) for x in l]"
   ]
  },
  {
   "cell_type": "code",
   "execution_count": null,
   "id": "35af852c",
   "metadata": {},
   "outputs": [],
   "source": []
  }
 ],
 "metadata": {
  "kernelspec": {
   "display_name": "Python 3 (ipykernel)",
   "language": "python",
   "name": "python3"
  },
  "language_info": {
   "codemirror_mode": {
    "name": "ipython",
    "version": 3
   },
   "file_extension": ".py",
   "mimetype": "text/x-python",
   "name": "python",
   "nbconvert_exporter": "python",
   "pygments_lexer": "ipython3",
   "version": "3.10.4"
  }
 },
 "nbformat": 4,
 "nbformat_minor": 5
}
